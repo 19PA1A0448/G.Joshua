{
  "nbformat": 4,
  "nbformat_minor": 0,
  "metadata": {
    "colab": {
      "name": "Untitled0.ipynb",
      "provenance": [],
      "collapsed_sections": [],
      "authorship_tag": "ABX9TyMQG/L/fn3o33YxllPK65hL",
      "include_colab_link": true
    },
    "kernelspec": {
      "name": "python3",
      "display_name": "Python 3"
    }
  },
  "cells": [
    {
      "cell_type": "markdown",
      "metadata": {
        "id": "view-in-github",
        "colab_type": "text"
      },
      "source": [
        "<a href=\"https://colab.research.google.com/github/19PA1A0448/G.Joshua/blob/master/jsh.ipynb\" target=\"_parent\"><img src=\"https://colab.research.google.com/assets/colab-badge.svg\" alt=\"Open In Colab\"/></a>"
      ]
    },
    {
      "cell_type": "code",
      "metadata": {
        "id": "QExkb7pnkNBN",
        "colab_type": "code",
        "colab": {}
      },
      "source": [
        ""
      ],
      "execution_count": 0,
      "outputs": []
    },
    {
      "cell_type": "code",
      "metadata": {
        "id": "XMJiadqGkbRy",
        "colab_type": "code",
        "colab": {
          "base_uri": "https://localhost:8080/",
          "height": 68
        },
        "outputId": "e8349fe6-ea51-45bf-fb43-be9ec550ac9e"
      },
      "source": [
        "#greatest of two numbers\n",
        "a=int(input(\"enter the value of a\"))\n",
        "b=int(input(\"enter the value of b\"))\n",
        "if a>b:\n",
        "  print(\"a is larger\")\n",
        "else: \n",
        "  print(\"b is larger\")  "
      ],
      "execution_count": 3,
      "outputs": [
        {
          "output_type": "stream",
          "text": [
            "enter the value of a6\n",
            "enter the value of b9\n",
            "b is larger\n"
          ],
          "name": "stdout"
        }
      ]
    },
    {
      "cell_type": "code",
      "metadata": {
        "id": "oVJECbDJ0QKs",
        "colab_type": "code",
        "colab": {
          "base_uri": "https://localhost:8080/",
          "height": 85
        },
        "outputId": "00e36670-88df-4a45-b981-8eb67c2af7ab"
      },
      "source": [
        "n=10\n",
        "for i in range(1,n):\n",
        "  if (i%2==0):\n",
        "    print('even num=',i)\n"
      ],
      "execution_count": 6,
      "outputs": [
        {
          "output_type": "stream",
          "text": [
            "even num= 2\n",
            "even num= 4\n",
            "even num= 6\n",
            "even num= 8\n"
          ],
          "name": "stdout"
        }
      ]
    },
    {
      "cell_type": "code",
      "metadata": {
        "id": "fWloYjIm4U8s",
        "colab_type": "code",
        "colab": {
          "base_uri": "https://localhost:8080/",
          "height": 102
        },
        "outputId": "8b8a14f0-ed0d-4e2e-d9df-2cd05b465904"
      },
      "source": [
        "n=10\n",
        "for i in range(1,n):\n",
        "  if(i%2!=0):\n",
        "    print('odd num=',i)"
      ],
      "execution_count": 10,
      "outputs": [
        {
          "output_type": "stream",
          "text": [
            "odd num= 1\n",
            "odd num= 3\n",
            "odd num= 5\n",
            "odd num= 7\n",
            "odd num= 9\n"
          ],
          "name": "stdout"
        }
      ]
    }
  ]
}